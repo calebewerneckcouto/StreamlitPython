{
 "cells": [
  {
   "cell_type": "markdown",
   "id": "d0062460-392a-4585-95ed-5a154fa5109f",
   "metadata": {
    "id": "d0062460-392a-4585-95ed-5a154fa5109f"
   },
   "source": [
    "## Slim Dados\n"
   ]
  },
  {
   "cell_type": "markdown",
   "id": "15717d36-27f6-4f39-aa33-6022d018adc6",
   "metadata": {
    "id": "15717d36-27f6-4f39-aa33-6022d018adc6"
   },
   "source": [
    "### Importando as Bibliotecas"
   ]
  },
  {
   "cell_type": "code",
   "execution_count": null,
   "id": "ef5622b6-e7d7-4b6c-af6d-abba1e9cfa18",
   "metadata": {
    "executionInfo": {
     "elapsed": 357,
     "status": "ok",
     "timestamp": 1643132227397,
     "user": {
      "displayName": "Estevan R. Lima",
      "photoUrl": "https://lh3.googleusercontent.com/a-/AOh14Ghd8zpzUiLBb5NuI3FQLoaTTydQw3yzFD_1VLha=s64",
      "userId": "16746628211047686596"
     },
     "user_tz": 180
    },
    "id": "ef5622b6-e7d7-4b6c-af6d-abba1e9cfa18"
   },
   "outputs": [],
   "source": [
    "import pandas as pd\n",
    "import numpy as np\n",
    "import matplotlib.pyplot as plt\n"
   ]
  },
  {
   "cell_type": "markdown",
   "id": "d1c8433c-8533-4423-9598-6a8811bcd6f1",
   "metadata": {
    "id": "d1c8433c-8533-4423-9598-6a8811bcd6f1"
   },
   "source": [
    "### 3D"
   ]
  },
  {
   "cell_type": "code",
   "execution_count": null,
   "id": "6b8d7bfe",
   "metadata": {},
   "outputs": [],
   "source": [
    "dados = pd.read_csv(\"relatorio_22_01_2025 com totalizadores.csv\", delimiter=\";\")\n",
    "dados.fillna(\"\")  # Substituir NaN por strings vazias\n",
    "\n",
    "\n"
   ]
  },
  {
   "cell_type": "markdown",
   "id": "cd1a73ba",
   "metadata": {},
   "source": [
    "### Verificação de Equipamento Joinville\n"
   ]
  },
  {
   "cell_type": "code",
   "execution_count": null,
   "id": "46e31207",
   "metadata": {},
   "outputs": [],
   "source": [
    "# Aplicar os filtros: Município = \"Joinville\" e Descrição = \"Verificação de Equipamento\"\n",
    "filtro = dados.loc[(dados[\"Município\"] == \"Joinville\") & (dados[\"Descrição\"] == \"Verificação de Equipamento\")].copy()\n",
    "\n",
    "\n",
    "\n",
    "# Remover colunas desnecessárias\n",
    "colunas_remover = [\n",
    "    \"Município\", \"Garantia\", \"Nome - Vendedor\", \"Descrição - Categoria\",\n",
    "    \"Número - Nota Fiscal\", \"Número - Nota de serviço\", \"Descrição - Forma de pagamento\"\n",
    "]\n",
    "filtro = filtro.drop(columns=colunas_remover, errors=\"ignore\")\n",
    "\n",
    "# Exibir os dados filtrados diretamente no Jupyter\n",
    "filtro.head()  # Exibe as primeiras 5 linhas do DataFrame filtrado"
   ]
  },
  {
   "cell_type": "markdown",
   "id": "e4efdbf5",
   "metadata": {},
   "source": [
    "### Manutenção FDM Joinville"
   ]
  },
  {
   "cell_type": "code",
   "execution_count": null,
   "id": "4e211196",
   "metadata": {},
   "outputs": [],
   "source": [
    "# Aplicar os filtros: Município = \"Joinville\" e Descrição = \"Verificação de Equipamento\"\n",
    "filtro = dados[(dados[\"Município\"] == \"Joinville\") & (dados[\"Descrição\"] == \"Manutencao FDM\")]\n",
    "\n",
    "\n",
    "\n",
    "# Remover colunas indesejadas (ignorando erro caso não existam)\n",
    "colunas_remover = [\n",
    "    \"Município\", \"Garantia\", \"Nome - Vendedor\", \"Descrição - Categoria\",\n",
    "    \"Número - Nota Fiscal\", \"Número - Nota de serviço\", \"Descrição - Forma de pagamento\"\n",
    "]\n",
    "filtro = filtro.drop(columns=colunas_remover, errors=\"ignore\")\n",
    "\n",
    "# Exibir os dados filtrados diretamente no Jupyter\n",
    "filtro.head()  # Exibe as primeiras 5 linhas do DataFrame filtrado\n",
    "\n",
    "\n"
   ]
  }
 ],
 "metadata": {
  "colab": {
   "name": "DataCleaning.ipynb",
   "provenance": []
  },
  "kernelspec": {
   "display_name": "venv",
   "language": "python",
   "name": "python3"
  },
  "language_info": {
   "codemirror_mode": {
    "name": "ipython",
    "version": 3
   },
   "file_extension": ".py",
   "mimetype": "text/x-python",
   "name": "python",
   "nbconvert_exporter": "python",
   "pygments_lexer": "ipython3",
   "version": "3.12.4"
  }
 },
 "nbformat": 4,
 "nbformat_minor": 5
}
